{
 "cells": [
  {
   "cell_type": "markdown",
   "metadata": {},
   "source": [
    "# To Do\n",
    "1. Account for: paired (?) and library type (?)\n",
    "4. Download experiments (runs and metadata) using SRA toolkit and organize data folder structure using metadata\n",
    "5. Check indexer settings?\n",
    "\n",
    "We're using os and glob to do bash script stuff."
   ]
  },
  {
   "cell_type": "code",
   "execution_count": 9,
   "metadata": {},
   "outputs": [],
   "source": [
    "import os\n",
    "import glob\n",
    "import pandas as pd\n",
    "import numpy as np\n",
    "import matplotlib.pyplot as plt\n",
    "from sklearn.decomposition import PCA\n",
    "\n",
    "#ref folder name, ref genomes go here\n",
    "ref_folder = 'references'\n",
    "#os.system('mkdir '+ref_folder)\n",
    "\n",
    "#data folder name, samples and runs go here\n",
    "data = 'data'\n",
    "#os.system('mkdir '+data)\n",
    "\n",
    "#csv output folder name\n",
    "csv = 'Ex'\n",
    "#os.system('mkdir '+csv)"
   ]
  },
  {
   "cell_type": "markdown",
   "metadata": {},
   "source": [
    "# Organize Directories Using Metadata\n",
    "1. Match runs to samples using metadata\n",
    "2. Create folder for each sample name\n",
    "3. Move each run into corresponding sample folder\n",
    "4. Quality check to ensure that: reference genomes are in correct folder and data is in correct folder structure\n",
    "\n",
    "data->samples->runs\n",
    "\n",
    "Will do manually for now, but can think about automating this. "
   ]
  },
  {
   "cell_type": "markdown",
   "metadata": {},
   "source": [
    "# Building Index\n",
    "Use salmon to build index. Download genomes from ensemble and store in refences folder. Will align to references in parallel. This is written to align to as many reference genomes/transcriptomes as are put in the references folder. "
   ]
  },
  {
   "cell_type": "code",
   "execution_count": 10,
   "metadata": {},
   "outputs": [
    {
     "name": "stdout",
     "output_type": "stream",
     "text": [
      "salmon references/Pseudomonas_aeruginosa_UCBPP-PA14_109.ffn.gz\n",
      "salmon references/Pseudomonas_aeruginosa_PAO1_107.ffn.gz\n"
     ]
    }
   ],
   "source": [
    "#grabs stuff and returns a list of them-used throughout\n",
    "def grab_ref(ref_folder1):\n",
    "    files=glob.glob(ref_folder1+'/*')\n",
    "    #print(files)\n",
    "    return(files)\n",
    "\n",
    "#builds Salmon index from given file names, puts indexes into folder, INDEX_references \n",
    "def salmon_index(genome):\n",
    "    #os.system('salmon index -t '+str(genome)+' -i INDEX_'+str(genome))\n",
    "    print('salmon '+ genome)\n",
    "    return \n",
    "\n",
    "#call grab_ref() and salmon_index() to build index for each reference genome\n",
    "for i in grab_ref(ref_folder):\n",
    "    salmon_index(i)"
   ]
  },
  {
   "cell_type": "markdown",
   "metadata": {},
   "source": [
    "# Get Quants for Each Reference Genome on a Per Sample Basis\n",
    "We want all of the runs from each sample to be fed into salmon at one time. This is currently robust to number of runs, but is not robust to library type or paired vs unpaired. If mulitple files, give -a and then a space seperated string of file names. Files must be of same library type and aligned to same transcriptome. Need to check salmon output path and need to see about paired reads."
   ]
  },
  {
   "cell_type": "code",
   "execution_count": 24,
   "metadata": {},
   "outputs": [
    {
     "name": "stdout",
     "output_type": "stream",
     "text": [
      "INDEX_references/Pseudomonas_aeruginosa_UCBPP-PA14_109.ffn.gz\n",
      "Index: Pseudomonas_aeruginosa_UCBPP-PA14_109\n",
      "Sample name: GD1-45169164-WT_rep1.3\n",
      "Quant output:quants/Pseudomonas_aeruginosa_UCBPP-PA14_109/GD1-45169164-WT_rep1.3_quant\n",
      "One run for data/GD1-45169164-WT_rep1.3\n",
      "INDEX_references/Pseudomonas_aeruginosa_PAO1_107.ffn.gz\n",
      "Index: Pseudomonas_aeruginosa_PAO1_107\n",
      "Sample name: GD1-45169164-WT_rep1.3\n",
      "Quant output:quants/Pseudomonas_aeruginosa_PAO1_107/GD1-45169164-WT_rep1.3_quant\n",
      "One run for data/GD1-45169164-WT_rep1.3\n"
     ]
    }
   ],
   "source": [
    "#loops through indexes and samples and runs quant for each sample and each index. \n",
    "index_names =[] #will use this later\n",
    "for y in glob.glob('INDEX_'+ref_folder+'/*'):\n",
    "    print(y)\n",
    "    index_name = y.replace('INDEX_references/','').replace('.ffn.gz','')\n",
    "    print('Index: '+index_name)\n",
    "    index_names.append(index_name)\n",
    "    for j in grab_ref(data):\n",
    "        #print(j)\n",
    "        sample_name= j.replace('data/','')\n",
    "        print('Sample name: '+sample_name)\n",
    "        runs = grab_ref(j)\n",
    "        #print(runs)\n",
    "        output_name='quants/'+index_name+'/'+sample_name+'_quant'\n",
    "        print('Quant output:'+output_name)\n",
    "        if len(runs)<1:\n",
    "            print('Oops, no runs for '+sample_name)\n",
    "        if len(runs)==1:\n",
    "            print('One run for '+j)\n",
    "            os.system('salmon quant -i '+y+' -l A -r '+runs[0]+' -p 8 --validateMappings -o '+output_name)\n",
    "        if len(runs)>1:\n",
    "            print('Multiple runs for '+sample_name)\n",
    "            input_name='-r'\n",
    "            for z in np.arange(0, len(runs)):\n",
    "                if \"R1\" in runs[z]:\n",
    "                    input_name+=' '+runs[z]\n",
    "            for z in np.arange(0, len(runs)):\n",
    "                if \"R2\" in runs[z]:\n",
    "                    print('make reverse: '+runs[z])\n",
    "                    os.system('gzip -d '+runs[z])\n",
    "                    os.system(\"fastx_reverse_complement -z -i \"+runs[z]+\" -o \"+runs[z]+\"_R1\")\n",
    "            for z in np.arange(0, len(runs)):\n",
    "                if \"R1\" in runs[0]:\n",
    "                    os.system('gzip -d'+runs[0])\n",
    "                    input_name+= ' '+runs[0]\n",
    "                if \"R1\" not in runs[z]:\n",
    "                    print('')\n",
    "                    #os.system('rm '+runs[z])\n",
    "            print('Salmon Input: '+input_name)\n",
    "            #os.system('salmon quant -i '+y+' -l A '+input_name+' -p 8 --validateMappings -o '+output_name)"
   ]
  },
  {
   "cell_type": "markdown",
   "metadata": {},
   "source": [
    "# Storing Output\n",
    "\n",
    "Similar to running the quants, for each reference genome, we're going to grab the quants on a sample by sample basis and construct a data frame for each reference genome. The dataframes will be stored in a list. \n",
    "\n",
    "Not sure if row names are robust. I think they are, but I have not thought hard about it. \n",
    "\n",
    "This will eatup ram (?) when implemented. Instead of storing the data from each sample in a dataframe, it should be appended to a csv file? Shouldn't be too hard to do, but will effect everything downstream. "
   ]
  },
  {
   "cell_type": "code",
   "execution_count": 25,
   "metadata": {},
   "outputs": [
    {
     "name": "stdout",
     "output_type": "stream",
     "text": [
      "[Name                    PGD1650835  PGD1650837  PGD1650839  PGD1650841  \\\n",
      "GD9-45172138_pstB_rep2   35.277179   57.746692   25.622426   23.914272   \n",
      "GD1-45169164-WT_rep1     49.944022   83.272098   37.949438   33.438258   \n",
      "GD3-45171150-pstB_rep1   36.860554   54.972097   28.366097   25.248504   \n",
      "SAMN02691047            181.071153  256.061143  148.308933  204.088772   \n",
      "GD7-45169169_WT_rep2     54.039770   86.087977   35.995566   32.338511   \n",
      "GD1-45169164-WT_rep1.3   49.420548   80.185449   37.806049   33.567150   \n",
      "\n",
      "Name                    PGD1650843  PGD1650845  PGD1650847  PGD1650849  \\\n",
      "GD9-45172138_pstB_rep2    7.278564   12.579428  100.374052    6.596169   \n",
      "GD1-45169164-WT_rep1     12.534982   20.219347  105.354902    9.833318   \n",
      "GD3-45171150-pstB_rep1    8.525593   18.903904   81.690075    6.637134   \n",
      "SAMN02691047             80.336943   83.965550   10.125983   57.898305   \n",
      "GD7-45169169_WT_rep2     12.915141   17.952131   93.988283   11.059103   \n",
      "GD1-45169164-WT_rep1.3   12.775361   19.552733  105.521565    9.924505   \n",
      "\n",
      "Name                    PGD1650851  PGD1650853  ...  PGD1662756  PGD1662758  \\\n",
      "GD9-45172138_pstB_rep2   11.769905    6.098943  ...   29.842188   31.717161   \n",
      "GD1-45169164-WT_rep1     16.564001   10.002554  ...   51.340932   59.916339   \n",
      "GD3-45171150-pstB_rep1   12.261255    7.071466  ...   30.168891   39.396369   \n",
      "SAMN02691047             89.446037   30.993425  ...  691.684616  249.553293   \n",
      "GD7-45169169_WT_rep2     18.359632    8.483685  ...   57.810774   62.757437   \n",
      "GD1-45169164-WT_rep1.3   17.454800    8.990196  ...   52.048468   58.961673   \n",
      "\n",
      "Name                    PGD1662760  PGD1662762  PGD1662764  PGD1662766  \\\n",
      "GD9-45172138_pstB_rep2   29.564863   35.497913   30.952577   35.957704   \n",
      "GD1-45169164-WT_rep1     47.001115   56.172737   53.187311   55.932686   \n",
      "GD3-45171150-pstB_rep1   30.818130   37.843110   35.294990   37.429800   \n",
      "SAMN02691047            129.798328  159.372543   82.764060   94.021432   \n",
      "GD7-45169169_WT_rep2     49.480416   60.716151   54.624940   63.299204   \n",
      "GD1-45169164-WT_rep1.3   46.992591   55.362318   53.643566   55.528787   \n",
      "\n",
      "Name                    PGD1662768  PGD1662770  PGD1662772   PGD1662774  \n",
      "GD9-45172138_pstB_rep2    0.696037    6.279266   10.658074   159.366324  \n",
      "GD1-45169164-WT_rep1      0.378374   11.609886   17.301445   276.659035  \n",
      "GD3-45171150-pstB_rep1    0.790752    7.093596   11.078949   179.405755  \n",
      "SAMN02691047              3.336896   30.194924  294.813260  6349.210192  \n",
      "GD7-45169169_WT_rep2      1.077801   11.026516   18.442140   273.924267  \n",
      "GD1-45169164-WT_rep1.3    0.847815   11.537557   17.552847   274.979989  \n",
      "\n",
      "[6 rows x 5959 columns], Name                     PGD134012   PGD134018   PGD134020   PGD134022  \\\n",
      "GD9-45172138_pstB_rep2   33.111318   55.096610   24.316739   22.778530   \n",
      "GD1-45169164-WT_rep1     45.403761   77.384733   35.135153   31.021531   \n",
      "GD3-45171150-pstB_rep1   34.612578   52.328997   26.909044   24.031749   \n",
      "SAMN02691047            119.947184  169.368489  100.093778  134.269485   \n",
      "GD7-45169169_WT_rep2     49.206401   79.714436   33.130450   29.942208   \n",
      "GD1-45169164-WT_rep1.3   44.636774   74.493283   35.043001   31.110746   \n",
      "\n",
      "Name                    PGD134024  PGD134014  PGD134016  PGD134026  PGD134030  \\\n",
      "GD9-45172138_pstB_rep2   6.925630  12.035224  90.544005   6.216784  11.117820   \n",
      "GD1-45169164-WT_rep1    11.463835  18.829910  92.469856   9.047897  15.312029   \n",
      "GD3-45171150-pstB_rep1   7.954378  17.967049  73.605230   6.299354  11.552434   \n",
      "SAMN02691047            55.022293  59.574055   6.846530  38.126388  60.413686   \n",
      "GD7-45169169_WT_rep2    11.873735  16.633003  82.410532  10.185166  16.726168   \n",
      "GD1-45169164-WT_rep1.3  11.656565  18.213383  92.238729   9.103002  16.045623   \n",
      "\n",
      "Name                    PGD134032  ...   PGD133904  PGD133906   PGD133902  \\\n",
      "GD9-45172138_pstB_rep2   5.604327  ...   30.345032  26.749093   33.888232   \n",
      "GD1-45169164-WT_rep1     9.119198  ...   55.880691  41.494089   52.286313   \n",
      "GD3-45171150-pstB_rep1   6.422136  ...   37.654883  27.879098   36.129796   \n",
      "SAMN02691047            21.448103  ...  192.355035  88.035125  108.112422   \n",
      "GD7-45169169_WT_rep2     7.592174  ...   58.159976  43.617357   56.332941   \n",
      "GD1-45169164-WT_rep1.3   8.022509  ...   54.922836  41.484141   51.491061   \n",
      "\n",
      "Name                    PGD133898  PGD133900  PGD133894  PGD133896  \\\n",
      "GD9-45172138_pstB_rep2  28.453199  34.292756   0.443951   5.864790   \n",
      "GD1-45169164-WT_rep1    47.659998  52.001147   0.235259  10.544081   \n",
      "GD3-45171150-pstB_rep1  32.078429  35.637818   0.647826   6.597665   \n",
      "SAMN02691047            56.698411  61.904099   3.080287  20.522048   \n",
      "GD7-45169169_WT_rep2    49.138691  58.693256   0.868717  10.004844   \n",
      "GD1-45169164-WT_rep1.3  47.922871  51.543518   0.631792  10.347079   \n",
      "\n",
      "Name                     PGD133892    PGD133884    PGD133886  \n",
      "GD9-45172138_pstB_rep2   10.049306   152.471911  3071.905337  \n",
      "GD1-45169164-WT_rep1     15.783934   258.024744  5145.534826  \n",
      "GD3-45171150-pstB_rep1   10.388399   171.475261  3728.506372  \n",
      "SAMN02691047            195.199555  3317.075270  4940.851786  \n",
      "GD7-45169169_WT_rep2     16.866416   254.752137  5239.692059  \n",
      "GD1-45169164-WT_rep1.3   16.006569   256.144034  5093.021266  \n",
      "\n",
      "[6 rows x 5687 columns]]\n"
     ]
    }
   ],
   "source": [
    "#loop through indexes and build dataframe of output for each one\n",
    "df_list = []\n",
    "for i in index_names:\n",
    "    glob_list = []\n",
    "    replace = 'quants/'+i+'/'\n",
    "    #print(i)\n",
    "    for z in grab_ref('quants/'+i):\n",
    "        #print(z)\n",
    "        for file in glob.glob(z+'/*.sf'):\n",
    "            glob_list.append(file)\n",
    "            #print(file)\n",
    "    expression_df = pd.DataFrame(\n",
    "    pd.read_csv(file, sep=\"\\t\", index_col=0)[\"TPM\"].\n",
    "        rename(file.replace(replace, '').replace('_quant/quant.sf',''))\n",
    "    for file in glob_list)\n",
    "    df_list.append(expression_df)\n",
    "    expression_df.to_csv(csv+'/aligned_to_'+i, sep='\\t')\n",
    "print(df_list)"
   ]
  },
  {
   "cell_type": "code",
   "execution_count": null,
   "metadata": {},
   "outputs": [],
   "source": []
  }
 ],
 "metadata": {
  "kernelspec": {
   "display_name": "Python 3",
   "language": "python",
   "name": "python3"
  },
  "language_info": {
   "codemirror_mode": {
    "name": "ipython",
    "version": 3
   },
   "file_extension": ".py",
   "mimetype": "text/x-python",
   "name": "python",
   "nbconvert_exporter": "python",
   "pygments_lexer": "ipython3",
   "version": "3.8.3"
  }
 },
 "nbformat": 4,
 "nbformat_minor": 4
}
