{
 "cells": [
  {
   "cell_type": "markdown",
   "metadata": {},
   "source": [
    "# To Do\n",
    "1. Quality checks\n",
    "\n",
    "We're using os and glob to do bash script stuff."
   ]
  },
  {
   "cell_type": "code",
   "execution_count": 4,
   "metadata": {},
   "outputs": [],
   "source": [
    "import os\n",
    "import glob\n",
    "import pandas as pd\n",
    "import numpy as np\n",
    "\n",
    "#stores the working directory as a string\n",
    "path = os.getcwd()\n",
    "\n",
    "#ref folder name, ref genomes go here\n",
    "ref_folder = 'references'\n",
    "\n",
    "#data folder name, samples and runs go here\n",
    "data = 'data'\n",
    "\n",
    "#csv output folder name\n",
    "csv = 'Ex'\n"
   ]
  },
  {
   "cell_type": "markdown",
   "metadata": {},
   "source": [
    "# Get List of SRR#s to Automate Downloading Data\n",
    "\n",
    "Use Georgia's metadata table to download sample runs. \n",
    "\n",
    "Metadata Table -> dataframe -> list of SRR#s\n",
    "\n",
    "List of SRR#s -> SRA Toolkit -> fastq files -> salmon -> quant files"
   ]
  },
  {
   "cell_type": "code",
   "execution_count": 5,
   "metadata": {},
   "outputs": [
    {
     "name": "stdout",
     "output_type": "stream",
     "text": [
      "4    SRR8239646\n",
      "5    SRR6483189\n",
      "Name: Run, dtype: object\n"
     ]
    }
   ],
   "source": [
    "#read in SRR#s from metadata table provided by Georgia\n",
    "sra_run_table = pd.read_csv('SraRunTable.csv', sep=\",\", header=0, index_col=0)\n",
    "print(sra_run_table['Run'][3:5])"
   ]
  },
  {
   "cell_type": "markdown",
   "metadata": {},
   "source": [
    "# Building Index\n",
    "Use salmon to build index. Download genomes from ensemble and store in refences folder. Will align to references in parallel. This is written to align to as many reference genomes/transcriptomes as are put in the references folder. "
   ]
  },
  {
   "cell_type": "code",
   "execution_count": 6,
   "metadata": {},
   "outputs": [],
   "source": [
    "#grabs stuff and returns a list of them-used throughout\n",
    "def grab_ref(ref_folder1):\n",
    "    files=glob.glob(ref_folder1+'/*')\n",
    "    #print(files)\n",
    "    return(files)\n",
    "\n",
    "#builds Salmon index from given file names, puts indexes into folder, INDEX_references \n",
    "def salmon_index(genome):\n",
    "    #os.system('salmon index -t '+str(genome)+' -i INDEX_'+str(genome))\n",
    "    #print('salmon '+ genome)\n",
    "    return \n",
    "\n",
    "#call grab_ref() and salmon_index() to build index for each reference genome\n",
    "for i in grab_ref(ref_folder):\n",
    "    salmon_index(i)"
   ]
  },
  {
   "cell_type": "markdown",
   "metadata": {},
   "source": [
    "# Get Quants for Each Reference Genome on a Per Sample Basis\n",
    "We want all of the runs from each sample to be fed into salmon at one time. This is currently robust to number of runs, but is not robust to library type or paired vs unpaired. If mulitple files, give -a and then a space seperated string of file names. Files must be of same library type and aligned to same transcriptome. \n",
    "\n",
    "loops through indexes and samples and runs quant for each sample and each index. \n",
    "\n",
    "fastqdump downloads data on the fly so we are not running prefetch\n",
    "\n",
    "still need to test this robustly"
   ]
  },
  {
   "cell_type": "code",
   "execution_count": 42,
   "metadata": {},
   "outputs": [
    {
     "name": "stdout",
     "output_type": "stream",
     "text": [
      "Index: Pseudomonas_aeruginosa_UCBPP-PA14_109\n",
      "Dump Directory: data/SRR8239646\n",
      "Quant output:quants/Pseudomonas_aeruginosa_UCBPP-PA14_109/SRR8239646_quant\n",
      "One run for data/SRR6483189\n",
      "Salmon input: data/SRR8239646/SRR8239646.fastq.gz\n",
      "Dump Directory: data/SRR6483189\n",
      "Quant output:quants/Pseudomonas_aeruginosa_UCBPP-PA14_109/SRR6483189_quant\n",
      "['data/SRR6483189/SRR6483189.fastq1.gz', 'data/SRR6483189/SRR6483189.fastq12.gz', 'data/SRR6483189/SRR6483189.fastq.gz']\n",
      "Multiple runs for SRR6483189\n",
      "Salmon Input: -r data/SRR6483189/SRR6483189.fastq1.gz data/SRR6483189/SRR6483189.fastq12.gz data/SRR6483189/SRR6483189.fastq.gz\n",
      "Index: Pseudomonas_aeruginosa_PAO1_107\n",
      "Dump Directory: data/SRR8239646\n",
      "Quant output:quants/Pseudomonas_aeruginosa_PAO1_107/SRR8239646_quant\n",
      "One run for data/SRR6483189\n",
      "Salmon input: data/SRR8239646/SRR8239646.fastq.gz\n",
      "Dump Directory: data/SRR6483189\n",
      "Quant output:quants/Pseudomonas_aeruginosa_PAO1_107/SRR6483189_quant\n",
      "['data/SRR6483189/SRR6483189.fastq1.gz', 'data/SRR6483189/SRR6483189.fastq12.gz', 'data/SRR6483189/SRR6483189.fastq.gz']\n",
      "Multiple runs for SRR6483189\n",
      "Salmon Input: -r data/SRR6483189/SRR6483189.fastq1.gz data/SRR6483189/SRR6483189.fastq12.gz data/SRR6483189/SRR6483189.fastq.gz\n"
     ]
    }
   ],
   "source": [
    "index_names =[] #will use this later\n",
    "\n",
    "for y in glob.glob('INDEX_'+ref_folder+'/*'):\n",
    "    index_name = y.replace('INDEX_references/','').replace('.ffn.gz','')\n",
    "    print('Index: '+index_name)\n",
    "    index_names.append(index_name)\n",
    "    #you could fairly easily change this to loop by experiment \n",
    "    #number or biosample number...need to talk about which one to choose\n",
    "    for z in sra_run_table['Run'][3:5]:\n",
    "        dump_directory = 'data/'+z\n",
    "        #os.system('mkdir data/'+z)\n",
    "        print('Dump Directory: '+dump_directory)\n",
    "        #os.system('fastq-dump --outdir '+dump_directory+' -v --gzip --skip-technical --readids --split-3 --clip '+z)\n",
    "        runs = grab_ref(dump_directory)\n",
    "        output_name='quants/'+index_name+'/'+z+'_quant'\n",
    "        print('Quant output:'+output_name)\n",
    "        if len(runs)<1:\n",
    "            print('Oops, no runs for '+z)\n",
    "        if len(runs)==1:\n",
    "            print('One run for '+j)\n",
    "            print('Salmon input: '+runs[0])\n",
    "            os.system('salmon quant -i '+y+' -l A '+runs[0]+' -p 8 --validateMappings -o '+output_name)\n",
    "        if len(runs)>1:\n",
    "            if \"_1\" in runs[0] or \"_2\" in runs[0]:\n",
    "                print('Multiple paired runs for '+z)\n",
    "                input_name='-1'\n",
    "                for z in np.arange(0, len(runs)):\n",
    "                    if \"_1\" in runs[z]:\n",
    "                        input_name+= ' '+runs[z]\n",
    "                input_name+=' -2'\n",
    "                for z in np.arange(0, len(runs)):\n",
    "                    if \"_2\" in runs[z]:\n",
    "                        input_name+= ' '+runs[z]\n",
    "            else:\n",
    "                print('Multiple runs for '+z)\n",
    "                input_name='-r'\n",
    "                for z in np.arange(0, len(runs)):\n",
    "                    input_name+= ' '+runs[z]\n",
    "            print('Salmon Input: '+input_name)\n",
    "            #os.system('salmon quant -i '+y+' -l A '+input_name+' -p 8 --validateMappings -o '+output_name)"
   ]
  },
  {
   "cell_type": "markdown",
   "metadata": {},
   "source": [
    "# Storing Output\n",
    "\n",
    "Copied Alex's code. \n",
    "\n",
    "Similar to running the quants, for each reference genome, we're going to grab the quants on a sample by sample basis and construct a data frame for each reference genome. The dataframes will be stored in a list. \n",
    "\n",
    "Not sure if row names are robust. I think they are, but I have not thought hard about it. "
   ]
  },
  {
   "cell_type": "code",
   "execution_count": 9,
   "metadata": {},
   "outputs": [
    {
     "name": "stdout",
     "output_type": "stream",
     "text": [
      "[Name                    PGD1650835  PGD1650837  PGD1650839  PGD1650841  \\\n",
      "GD9-45172138_pstB_rep2   81.392938  138.626252   54.634600   60.881744   \n",
      "GD1-45169164-WT_rep1    127.691467  219.547086   91.361946   91.925850   \n",
      "GD3-45171150-pstB_rep1   91.208678  135.613848   63.026178   68.336412   \n",
      "GD7-45169169_WT_rep2    116.833104  193.536140   73.984332   76.042705   \n",
      "\n",
      "Name                    PGD1650843  PGD1650845  PGD1650847  PGD1650849  \\\n",
      "GD9-45172138_pstB_rep2   16.264421   20.309403  291.540767   16.550769   \n",
      "GD1-45169164-WT_rep1     34.185101   38.716848  331.107661   27.048108   \n",
      "GD3-45171150-pstB_rep1   19.362714   33.293163  239.210943   18.593997   \n",
      "GD7-45169169_WT_rep2     28.673334   27.881871  260.109989   25.418221   \n",
      "\n",
      "Name                    PGD1650851  PGD1650853  ...  PGD1662756  PGD1662758  \\\n",
      "GD9-45172138_pstB_rep2   24.736559   16.688346  ...   59.922889   70.892426   \n",
      "GD1-45169164-WT_rep1     37.439678   28.778906  ...  112.710116  135.050741   \n",
      "GD3-45171150-pstB_rep1   28.414884   16.648352  ...   65.707472   94.865669   \n",
      "GD7-45169169_WT_rep2     37.337491   20.817802  ...  105.267100  136.450937   \n",
      "\n",
      "Name                    PGD1662760  PGD1662762  PGD1662764  PGD1662766  \\\n",
      "GD9-45172138_pstB_rep2   67.145665   81.626147   70.489247   87.721575   \n",
      "GD1-45169164-WT_rep1    114.297538  138.373895  127.842734  149.369045   \n",
      "GD3-45171150-pstB_rep1   68.575950   89.690492   83.873839   93.848948   \n",
      "GD7-45169169_WT_rep2    103.534217  127.735961  118.107135  145.240536   \n",
      "\n",
      "Name                    PGD1662768  PGD1662770  PGD1662772  PGD1662774  \n",
      "GD9-45172138_pstB_rep2    2.764794   17.089743   26.704946  416.595786  \n",
      "GD1-45169164-WT_rep1      1.063291   32.600975   48.230799  675.267721  \n",
      "GD3-45171150-pstB_rep1    6.780820   19.276383   28.222909  458.585903  \n",
      "GD7-45169169_WT_rep2      2.446166   27.862374   43.349990  631.662016  \n",
      "\n",
      "[4 rows x 5959 columns], Name                     PGD134012   PGD134018  PGD134020  PGD134022  \\\n",
      "GD9-45172138_pstB_rep2   71.848925  124.739524  48.293858  54.219042   \n",
      "GD1-45169164-WT_rep1    107.438307  188.760896  74.632136  78.450184   \n",
      "GD3-45171150-pstB_rep1   76.435975  116.156269  53.022675  58.504046   \n",
      "GD7-45169169_WT_rep2     98.680456  164.045494  61.396676  65.031729   \n",
      "\n",
      "Name                    PGD134024  PGD134014   PGD134016  PGD134026  \\\n",
      "GD9-45172138_pstB_rep2  14.221035  17.664549  257.993419  14.773197   \n",
      "GD1-45169164-WT_rep1    29.482492  32.786472  283.245322  22.674223   \n",
      "GD3-45171150-pstB_rep1  16.579841  28.829197  201.360350  15.446148   \n",
      "GD7-45169169_WT_rep2    24.940017  24.591290  218.583325  21.355474   \n",
      "\n",
      "Name                    PGD134030  PGD134032  ...   PGD133904  PGD133906  \\\n",
      "GD9-45172138_pstB_rep2  21.910403  13.838556  ...   63.875274  58.450458   \n",
      "GD1-45169164-WT_rep1    32.506296  24.037001  ...  121.996214  96.045292   \n",
      "GD3-45171150-pstB_rep1  23.929546  13.695717  ...   76.853971  56.993924   \n",
      "GD7-45169169_WT_rep2    31.976583  17.470542  ...  115.309022  87.728462   \n",
      "\n",
      "Name                     PGD133902   PGD133898   PGD133900  PGD133894  \\\n",
      "GD9-45172138_pstB_rep2   72.254303   61.276784   78.485850   2.166310   \n",
      "GD1-45169164-WT_rep1    116.011876  111.881315  127.251713   0.542844   \n",
      "GD3-45171150-pstB_rep1   76.274411   71.305102   80.157150   4.284516   \n",
      "GD7-45169169_WT_rep2    109.312478   98.679391  123.730906   2.184117   \n",
      "\n",
      "Name                    PGD133896  PGD133892   PGD133884    PGD133886  \n",
      "GD9-45172138_pstB_rep2  15.218122  24.095068  276.874555   913.074236  \n",
      "GD1-45169164-WT_rep1    28.063063  40.847253  489.624953  1401.873668  \n",
      "GD3-45171150-pstB_rep1  15.881286  24.962229  329.187959  1478.073807  \n",
      "GD7-45169169_WT_rep2    22.846049  36.707204  415.322245  1677.559268  \n",
      "\n",
      "[4 rows x 5687 columns]]\n"
     ]
    }
   ],
   "source": [
    "#loop through indexes and build dataframe of output for each one\n",
    "df_list = []\n",
    "for i in index_names:\n",
    "    glob_list = []\n",
    "    replace = 'quants/'+i+'/'\n",
    "    #print(i)\n",
    "    for z in grab_ref('quants/'+i):\n",
    "        #print(z)\n",
    "        for file in glob.glob(z+'/*.sf'):\n",
    "            glob_list.append(file)\n",
    "            #print(file)\n",
    "    expression_df = pd.DataFrame(\n",
    "    pd.read_csv(file, sep=\"\\t\", index_col=0)[\"TPM\"].\n",
    "        rename(file.replace(replace, '').replace('_quant/quant.sf',''))\n",
    "    for file in glob_list)\n",
    "    df_list.append(expression_df)\n",
    "    expression_df.to_csv(csv+'/aligned_to_'+i, sep='\\t')\n",
    "print(df_list)"
   ]
  },
  {
   "cell_type": "code",
   "execution_count": null,
   "metadata": {},
   "outputs": [],
   "source": []
  }
 ],
 "metadata": {
  "kernelspec": {
   "display_name": "Python 3",
   "language": "python",
   "name": "python3"
  },
  "language_info": {
   "codemirror_mode": {
    "name": "ipython",
    "version": 3
   },
   "file_extension": ".py",
   "mimetype": "text/x-python",
   "name": "python",
   "nbconvert_exporter": "python",
   "pygments_lexer": "ipython3",
   "version": "3.8.3"
  }
 },
 "nbformat": 4,
 "nbformat_minor": 4
}
