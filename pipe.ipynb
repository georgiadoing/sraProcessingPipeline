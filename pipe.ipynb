{
 "cells": [
  {
   "cell_type": "markdown",
   "metadata": {},
   "source": [
    "# To Do\n",
    "1. Account for: forwards vs reverse (maybe?) and library type \n",
    "2. Write to CSV? \n",
    "3. Graph data to quality check \n",
    "4. Download experiments (runs and metadata) using SRA toolkit and organize data folder structure using metadata \n",
    "\n",
    "We're using os and glob to do bash script stuff. "
   ]
  },
  {
   "cell_type": "code",
   "execution_count": 49,
   "metadata": {},
   "outputs": [],
   "source": [
    "import os\n",
    "import glob\n",
    "\n",
    "#ref folder name, ref genomes go here\n",
    "ref_folder = 'references'\n",
    "#os.system('mkdir '+ref_folder)\n",
    "\n",
    "#data folder name, samples and runs go here\n",
    "data = 'data'\n",
    "#os.system('mkdir '+data)"
   ]
  },
  {
   "cell_type": "markdown",
   "metadata": {},
   "source": [
    "# Organize Directorties Using Metadata\n",
    "1. Match runs to samples using metadata\n",
    "2. Create folder for each sample name\n",
    "3. Move each run into corresponding sample folder\n",
    "4. Quality to check to ensure that: reference genomes are in correct folder and data is in correct folder structure\n",
    "\n",
    "data->samples->runs\n",
    "\n",
    "Will do manually for now, but can think about automating this. "
   ]
  },
  {
   "cell_type": "markdown",
   "metadata": {},
   "source": [
    "# Building Index\n",
    "Use salmon to build index. Download genomes from ensemble and store in refences folder. Will align to references in parallel. This is written to align to as many reference genomes as are put in the references folder. "
   ]
  },
  {
   "cell_type": "code",
   "execution_count": 28,
   "metadata": {},
   "outputs": [],
   "source": [
    "#grabs stuff and returns a list of them-used throughout\n",
    "def grab_ref(ref_folder1):\n",
    "    files=glob.glob(ref_folder1+'/*')\n",
    "    #print(files)\n",
    "    return(files)\n",
    "\n",
    "#builds Salmon index from given file names, puts indexes into folder, INDEX_references \n",
    "def salmon_index(genome):\n",
    "    os.system('salmon index -t '+str(genome)+' -i INDEX_'+str(genome))\n",
    "    #print('salmon '+ genome)\n",
    "    return \n",
    "\n",
    "#call grab_ref() and salmon_index() to build index for each reference genome\n",
    "for i in grab_ref(ref_folder):\n",
    "    salmon_index(i)"
   ]
  },
  {
   "cell_type": "markdown",
   "metadata": {},
   "source": [
    "# Get Quants for Each Reference Genome on a Per Sample Basis\n",
    "We want all of the runs from each sample to be fed into salmon at one time. This is currently robust to number of runs, but is not robust to library type or paired vs unpaired. "
   ]
  },
  {
   "cell_type": "code",
   "execution_count": 48,
   "metadata": {},
   "outputs": [
    {
     "name": "stdout",
     "output_type": "stream",
     "text": [
      "INDEX_references/Pseudomonas_aeruginosa_UCBPP-PA14_109.ffn.gz\n",
      "INDEX_references/Pseudomonas_aeruginosa_PAO1_107.ffn.gz\n"
     ]
    }
   ],
   "source": [
    "#need to check salmon output path and need to see about paired reads\n",
    "for y in glob.glob('INDEX_'+ref_folder+'/*'):\n",
    "    print(y)\n",
    "    for j in grab_ref(data):\n",
    "        #print(j)\n",
    "        runs = grab_ref(j)\n",
    "        #print(runs)\n",
    "        if len(runs)==1:\n",
    "            print(runs)\n",
    "            #os.system('salmon quant -t '+y+' -l -a '+runs[0]+salmon_quant')\n",
    "        else:\n",
    "            string=''\n",
    "            for z in runs:\n",
    "                string+= ' '+ z\n",
    "            #print(string)\n",
    "            #os.system('salmon quant -t '+y+' -l -a '+string+' o salmon_quant')"
   ]
  },
  {
   "cell_type": "markdown",
   "metadata": {},
   "source": [
    "# Storing Output\n",
    "Not sure yet what the tail end of this will be like."
   ]
  },
  {
   "cell_type": "markdown",
   "metadata": {},
   "source": [
    "# Graphing Data to Quality Check\n",
    "Also not sure what this should look like yet. "
   ]
  }
 ],
 "metadata": {
  "kernelspec": {
   "display_name": "Python 3",
   "language": "python",
   "name": "python3"
  },
  "language_info": {
   "codemirror_mode": {
    "name": "ipython",
    "version": 3
   },
   "file_extension": ".py",
   "mimetype": "text/x-python",
   "name": "python",
   "nbconvert_exporter": "python",
   "pygments_lexer": "ipython3",
   "version": "3.8.3"
  }
 },
 "nbformat": 4,
 "nbformat_minor": 4
}
