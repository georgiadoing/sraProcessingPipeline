{
 "cells": [
  {
   "cell_type": "markdown",
   "metadata": {},
   "source": [
    "# To Do\n",
    "1. Account for: paired (?) and library type (?)\n",
    "4. Download experiments (runs and metadata) using SRA toolkit and organize data folder structure using metadata\n",
    "5. Check indexer settings?\n",
    "\n",
    "We're using os and glob to do bash script stuff."
   ]
  },
  {
   "cell_type": "code",
   "execution_count": 1,
   "metadata": {},
   "outputs": [
    {
     "data": {
      "text/plain": [
       "256"
      ]
     },
     "execution_count": 1,
     "metadata": {},
     "output_type": "execute_result"
    }
   ],
   "source": [
    "import os\n",
    "import glob\n",
    "import pandas as pd\n",
    "import numpy as np\n",
    "import matplotlib.pyplot as plt\n",
    "from sklearn.decomposition import PCA\n",
    "\n",
    "#ref folder name, ref genomes go here\n",
    "ref_folder = 'references'\n",
    "#os.system('mkdir '+ref_folder)\n",
    "\n",
    "#data folder name, samples and runs go here\n",
    "data = 'data'\n",
    "#os.system('mkdir '+data)\n",
    "\n",
    "#csv output folder name\n",
    "csv = 'Reverse_K31'\n",
    "os.system('mkdir '+csv)"
   ]
  },
  {
   "cell_type": "markdown",
   "metadata": {},
   "source": [
    "# Organize Directories Using Metadata\n",
    "1. Match runs to samples using metadata\n",
    "2. Create folder for each sample name\n",
    "3. Move each run into corresponding sample folder\n",
    "4. Quality check to ensure that: reference genomes are in correct folder and data is in correct folder structure\n",
    "\n",
    "data->samples->runs\n",
    "\n",
    "Will do manually for now, but can think about automating this. "
   ]
  },
  {
   "cell_type": "markdown",
   "metadata": {},
   "source": [
    "# Building Index\n",
    "Use salmon to build index. Download genomes from ensemble and store in refences folder. Will align to references in parallel. This is written to align to as many reference genomes/transcriptomes as are put in the references folder. "
   ]
  },
  {
   "cell_type": "code",
   "execution_count": 2,
   "metadata": {},
   "outputs": [
    {
     "name": "stdout",
     "output_type": "stream",
     "text": [
      "salmon references/Pseudomonas_aeruginosa_UCBPP-PA14_109.ffn.gz\n",
      "salmon references/Pseudomonas_aeruginosa_PAO1_107.ffn.gz\n"
     ]
    }
   ],
   "source": [
    "#grabs stuff and returns a list of them-used throughout\n",
    "def grab_ref(ref_folder1):\n",
    "    files=glob.glob(ref_folder1+'/*')\n",
    "    #print(files)\n",
    "    return(files)\n",
    "\n",
    "#builds Salmon index from given file names, puts indexes into folder, INDEX_references \n",
    "def salmon_index(genome):\n",
    "    os.system('salmon index -t '+str(genome)+' -i INDEX_'+str(genome))\n",
    "    print('salmon '+ genome)\n",
    "    return \n",
    "\n",
    "#call grab_ref() and salmon_index() to build index for each reference genome\n",
    "for i in grab_ref(ref_folder):\n",
    "    salmon_index(i)"
   ]
  },
  {
   "cell_type": "markdown",
   "metadata": {},
   "source": [
    "# Get Quants for Each Reference Genome on a Per Sample Basis\n",
    "We want all of the runs from each sample to be fed into salmon at one time. This is currently robust to number of runs, but is not robust to library type or paired vs unpaired. If mulitple files, give -a and then a space seperated string of file names. Files must be of same library type and aligned to same transcriptome. Need to check salmon output path and need to see about paired reads."
   ]
  },
  {
   "cell_type": "code",
   "execution_count": 4,
   "metadata": {},
   "outputs": [
    {
     "name": "stdout",
     "output_type": "stream",
     "text": [
      "INDEX_references/Pseudomonas_aeruginosa_UCBPP-PA14_109.ffn.gz\n",
      "Index: Pseudomonas_aeruginosa_UCBPP-PA14_109\n",
      "Sample name: GD9-45172138_pstB_rep2\n",
      "Quant output:quants/Pseudomonas_aeruginosa_UCBPP-PA14_109/GD9-45172138_pstB_rep2_quant\n",
      "Multiple runs for GD9-45172138_pstB_rep2\n",
      "Salmon Input: -r data/GD9-45172138_pstB_rep2/GD9_S19_L003_R2_001.fastq.gz data/GD9-45172138_pstB_rep2/GD9_S19_L002_R2_001.fastq.gz data/GD9-45172138_pstB_rep2/GD9_S19_L003_R2.2_001.fastq data/GD9-45172138_pstB_rep2/GD9_S19_L004_R2.2_001.fastq data/GD9-45172138_pstB_rep2/GD9_S19_L002_R2.2_001.fastq data/GD9-45172138_pstB_rep2/GD9_S19_L001_R2.2_001.fastq data/GD9-45172138_pstB_rep2/GD9_S19_L001_R2_001.fastq.gz data/GD9-45172138_pstB_rep2/GD9_S19_L004_R2_001.fastq.gz\n",
      "Sample name: GD3-45171150-pstB_rep1\n",
      "Quant output:quants/Pseudomonas_aeruginosa_UCBPP-PA14_109/GD3-45171150-pstB_rep1_quant\n",
      "Multiple runs for GD3-45171150-pstB_rep1\n",
      "Salmon Input: -r data/GD3-45171150-pstB_rep1/GD3_S23_L002_R2.2_001.fastq data/GD3-45171150-pstB_rep1/GD3_S23_L004_R2_001.fastq.gz data/GD3-45171150-pstB_rep1/GD3_S23_L004_R2.2_001.fastq data/GD3-45171150-pstB_rep1/GD3_S23_L003_R2.2_001.fastq data/GD3-45171150-pstB_rep1/GD3_S23_L003_R2_001.fastq.gz data/GD3-45171150-pstB_rep1/GD3_S23_L001_R2.2_001.fastq data/GD3-45171150-pstB_rep1/GD3_S23_L002_R2_001.fastq.gz data/GD3-45171150-pstB_rep1/GD3_S23_L001_R2_001.fastq.gz\n",
      "Sample name: GD1-45169164-WT_rep1\n",
      "Quant output:quants/Pseudomonas_aeruginosa_UCBPP-PA14_109/GD1-45169164-WT_rep1_quant\n",
      "Multiple runs for GD1-45169164-WT_rep1\n",
      "Salmon Input: -r data/GD1-45169164-WT_rep1/GD1_S6_L004_R2.2_001.fastq data/GD1-45169164-WT_rep1/GD1_S6_L004_R2_001.fastq.gz data/GD1-45169164-WT_rep1/GD1_S6_L001_R2.2_001.fastq data/GD1-45169164-WT_rep1/GD1_S6_L001_R2_001.fastq.gz data/GD1-45169164-WT_rep1/GD1_S6_L002_R2_001.fastq.gz data/GD1-45169164-WT_rep1/GD1_S6_L002_R2.2_001.fastq data/GD1-45169164-WT_rep1/GD1_S6_L003_R2_001.fastq.gz data/GD1-45169164-WT_rep1/GD1_S6_L003_R2.2_001.fastq\n",
      "Sample name: GD7-45169169_WT_rep2\n",
      "Quant output:quants/Pseudomonas_aeruginosa_UCBPP-PA14_109/GD7-45169169_WT_rep2_quant\n",
      "Multiple runs for GD7-45169169_WT_rep2\n",
      "Salmon Input: -r data/GD7-45169169_WT_rep2/GD7_S9_L001_R2_001.fastq.gz data/GD7-45169169_WT_rep2/GD7_S9_L004_R2_001.fastq.gz data/GD7-45169169_WT_rep2/GD7_S9_L003_R2.2_001.fastq data/GD7-45169169_WT_rep2/GD7_S9_L002_R2.2_001.fastq data/GD7-45169169_WT_rep2/GD7_S9_L001_R2.2_001.fastq data/GD7-45169169_WT_rep2/GD7_S9_L004_R2.2_001.fastq data/GD7-45169169_WT_rep2/GD7_S9_L003_R2_001.fastq.gz data/GD7-45169169_WT_rep2/GD7_S9_L002_R2_001.fastq.gz\n",
      "INDEX_references/Pseudomonas_aeruginosa_PAO1_107.ffn.gz\n",
      "Index: Pseudomonas_aeruginosa_PAO1_107\n",
      "Sample name: GD9-45172138_pstB_rep2\n",
      "Quant output:quants/Pseudomonas_aeruginosa_PAO1_107/GD9-45172138_pstB_rep2_quant\n",
      "Multiple runs for GD9-45172138_pstB_rep2\n",
      "Salmon Input: -r data/GD9-45172138_pstB_rep2/GD9_S19_L003_R2_001.fastq.gz data/GD9-45172138_pstB_rep2/GD9_S19_L001_R2.2_001.fastq.gz data/GD9-45172138_pstB_rep2/GD9_S19_L002_R2_001.fastq.gz data/GD9-45172138_pstB_rep2/GD9_S19_L002_R2.2_001.fastq.gz data/GD9-45172138_pstB_rep2/GD9_S19_L003_R2.2_001.fastq.gz data/GD9-45172138_pstB_rep2/GD9_S19_L001_R2_001.fastq.gz data/GD9-45172138_pstB_rep2/GD9_S19_L004_R2_001.fastq.gz data/GD9-45172138_pstB_rep2/GD9_S19_L004_R2.2_001.fastq.gz\n",
      "Sample name: GD3-45171150-pstB_rep1\n",
      "Quant output:quants/Pseudomonas_aeruginosa_PAO1_107/GD3-45171150-pstB_rep1_quant\n",
      "Multiple runs for GD3-45171150-pstB_rep1\n",
      "Salmon Input: -r data/GD3-45171150-pstB_rep1/GD3_S23_L004_R2_001.fastq.gz data/GD3-45171150-pstB_rep1/GD3_S23_L002_R2.2_001.fastq.gz data/GD3-45171150-pstB_rep1/GD3_S23_L003_R2_001.fastq.gz data/GD3-45171150-pstB_rep1/GD3_S23_L004_R2.2_001.fastq.gz data/GD3-45171150-pstB_rep1/GD3_S23_L001_R2.2_001.fastq.gz data/GD3-45171150-pstB_rep1/GD3_S23_L003_R2.2_001.fastq.gz data/GD3-45171150-pstB_rep1/GD3_S23_L002_R2_001.fastq.gz data/GD3-45171150-pstB_rep1/GD3_S23_L001_R2_001.fastq.gz\n",
      "Sample name: GD1-45169164-WT_rep1\n",
      "Quant output:quants/Pseudomonas_aeruginosa_PAO1_107/GD1-45169164-WT_rep1_quant\n",
      "Multiple runs for GD1-45169164-WT_rep1\n",
      "Salmon Input: -r data/GD1-45169164-WT_rep1/GD1_S6_L004_R2.2_001.fastq.gz data/GD1-45169164-WT_rep1/GD1_S6_L004_R2_001.fastq.gz data/GD1-45169164-WT_rep1/GD1_S6_L003_R2.2_001.fastq.gz data/GD1-45169164-WT_rep1/GD1_S6_L001_R2_001.fastq.gz data/GD1-45169164-WT_rep1/GD1_S6_L002_R2_001.fastq.gz data/GD1-45169164-WT_rep1/GD1_S6_L001_R2.2_001.fastq.gz data/GD1-45169164-WT_rep1/GD1_S6_L002_R2.2_001.fastq.gz data/GD1-45169164-WT_rep1/GD1_S6_L003_R2_001.fastq.gz\n",
      "Sample name: GD7-45169169_WT_rep2\n",
      "Quant output:quants/Pseudomonas_aeruginosa_PAO1_107/GD7-45169169_WT_rep2_quant\n",
      "Multiple runs for GD7-45169169_WT_rep2\n",
      "Salmon Input: -r data/GD7-45169169_WT_rep2/GD7_S9_L001_R2_001.fastq.gz data/GD7-45169169_WT_rep2/GD7_S9_L004_R2_001.fastq.gz data/GD7-45169169_WT_rep2/GD7_S9_L003_R2.2_001.fastq.gz data/GD7-45169169_WT_rep2/GD7_S9_L001_R2.2_001.fastq.gz data/GD7-45169169_WT_rep2/GD7_S9_L002_R2.2_001.fastq.gz data/GD7-45169169_WT_rep2/GD7_S9_L004_R2.2_001.fastq.gz data/GD7-45169169_WT_rep2/GD7_S9_L003_R2_001.fastq.gz data/GD7-45169169_WT_rep2/GD7_S9_L002_R2_001.fastq.gz\n"
     ]
    }
   ],
   "source": [
    "#loops through indexes and samples and runs quant for each sample and each index. \n",
    "index_names =[] #will use this later\n",
    "for y in glob.glob('INDEX_'+ref_folder+'/*'):\n",
    "    print(y)\n",
    "    index_name = y.replace('INDEX_references/','').replace('.ffn.gz','')\n",
    "    print('Index: '+index_name)\n",
    "    index_names.append(index_name)\n",
    "    for j in grab_ref(data):\n",
    "        #print(j)\n",
    "        sample_name= j.replace('data/','')\n",
    "        print('Sample name: '+sample_name)\n",
    "        runs = grab_ref(j)\n",
    "        #print(runs)\n",
    "        output_name='quants/'+index_name+'/'+sample_name+'_quant'\n",
    "        print('Quant output:'+output_name)\n",
    "        if len(runs)<1:\n",
    "            print('Oops, no runs for '+sample_name)\n",
    "        if len(runs)==1:\n",
    "            print('One run for '+j)\n",
    "            input_name = '-r '+runs[0]\n",
    "        if len(runs)>1:\n",
    "            print('Multiple runs for '+sample_name)\n",
    "            input_name='-r'\n",
    "            for z in np.arange(0, len(runs)):\n",
    "                if \"R1\" in runs[z]:\n",
    "                    file_input = runs[z].replace(\"R1\",\"R2.2\")\n",
    "                    print('make reverse: '+file_input)\n",
    "                    os.system('gzip -d '+runs[z])\n",
    "                    os.system(\"fastx_reverse_complement -z -i \"+runs[z]+\" -o \"+file_input)\n",
    "                    #os.system(\"gzip -d \"+file_input)\n",
    "                    os.system('rm '+runs[z])\n",
    "            #input_name+=' -2'\n",
    "            for z in np.arange(0, len(runs)):\n",
    "                if \".gz\" not in runs[z]:\n",
    "                    os.system('gzip '+runs[z])     \n",
    "                if \"R2\" in runs[z]:\n",
    "                    input_name+= ' '+runs[z]\n",
    "        print('Salmon Input: '+input_name)\n",
    "        os.system('salmon quant -i '+y+' -l A '+input_name+' --validateMappings -o '+output_name)"
   ]
  },
  {
   "cell_type": "markdown",
   "metadata": {},
   "source": [
    "# Storing Output\n",
    "\n",
    "Similar to running the quants, for each reference genome, we're going to grab the quants on a sample by sample basis and construct a data frame for each reference genome. The dataframes will be stored in a list. \n",
    "\n",
    "Not sure if row names are robust. I think they are, but I have not thought hard about it. \n",
    "\n",
    "This will eatup ram (?) when implemented. Instead of storing the data from each sample in a dataframe, it should be appended to a csv file? Shouldn't be too hard to do, but will effect everything downstream. "
   ]
  },
  {
   "cell_type": "code",
   "execution_count": 5,
   "metadata": {},
   "outputs": [
    {
     "name": "stdout",
     "output_type": "stream",
     "text": [
      "[Name                    PGD1650835  PGD1650837  PGD1650839  PGD1650841  \\\n",
      "GD9-45172138_pstB_rep2   27.739280   48.347515   18.797463   21.540961   \n",
      "GD1-45169164-WT_rep1     44.534377   78.476539   31.245928   33.563661   \n",
      "GD3-45171150-pstB_rep1   29.826451   47.737117   21.508644   23.229370   \n",
      "SAMN02691047            181.071153  256.061143  148.308933  204.088772   \n",
      "GD7-45169169_WT_rep2     46.064066   78.639654   31.028947   31.154840   \n",
      "GD1-45169164-WT_rep1.3   49.420548   80.185449   37.806049   33.567150   \n",
      "\n",
      "Name                    PGD1650843  PGD1650845  PGD1650847  PGD1650849  \\\n",
      "GD9-45172138_pstB_rep2    6.955335    9.788730   93.964269    6.687487   \n",
      "GD1-45169164-WT_rep1     12.834448   17.368735  112.528361   10.576893   \n",
      "GD3-45171150-pstB_rep1    8.240279   14.271288   78.728337    6.643196   \n",
      "SAMN02691047             80.336943   83.965550   10.125983   57.898305   \n",
      "GD7-45169169_WT_rep2     13.177555   15.442447   98.784318   11.196717   \n",
      "GD1-45169164-WT_rep1.3   12.775361   19.552733  105.521565    9.924505   \n",
      "\n",
      "Name                    PGD1650851  PGD1650853  ...  PGD1662756  PGD1662758  \\\n",
      "GD9-45172138_pstB_rep2    8.796481    5.960869  ...   21.598354   47.414235   \n",
      "GD1-45169164-WT_rep1     13.896846   10.896807  ...   41.062579   93.128260   \n",
      "GD3-45171150-pstB_rep1    9.538321    6.589713  ...   23.306010   56.259535   \n",
      "SAMN02691047             89.446037   30.993425  ...  691.684616  249.553293   \n",
      "GD7-45169169_WT_rep2     15.227486    9.681765  ...   43.033442   95.908061   \n",
      "GD1-45169164-WT_rep1.3   17.454800    8.990196  ...   52.048468   58.961673   \n",
      "\n",
      "Name                    PGD1662760  PGD1662762  PGD1662764  PGD1662766  \\\n",
      "GD9-45172138_pstB_rep2   21.796547   28.168275   31.490511   27.513451   \n",
      "GD1-45169164-WT_rep1     37.810779   49.334424   57.308327   47.282494   \n",
      "GD3-45171150-pstB_rep1   22.595166   31.202225   36.120512   28.953337   \n",
      "SAMN02691047            129.798328  159.372543   82.764060   94.021432   \n",
      "GD7-45169169_WT_rep2     39.508027   50.694076   62.096612   52.143978   \n",
      "GD1-45169164-WT_rep1.3   46.992591   55.362318   53.643566   55.528787   \n",
      "\n",
      "Name                    PGD1662768  PGD1662770  PGD1662772   PGD1662774  \n",
      "GD9-45172138_pstB_rep2    9.888707    5.789596    9.251313   184.120934  \n",
      "GD1-45169164-WT_rep1     17.214564   11.390874   16.479903   334.255079  \n",
      "GD3-45171150-pstB_rep1   11.417030    6.422601    9.695112   214.252910  \n",
      "SAMN02691047              3.336896   30.194924  294.813260  6349.210192  \n",
      "GD7-45169169_WT_rep2     20.510038   11.376639   17.332229   329.093541  \n",
      "GD1-45169164-WT_rep1.3    0.847815   11.537557   17.552847   274.979989  \n",
      "\n",
      "[6 rows x 5959 columns], Name                     PGD134012   PGD134018   PGD134020   PGD134022  \\\n",
      "GD9-45172138_pstB_rep2   33.119575   55.097525   24.317142   22.778909   \n",
      "GD1-45169164-WT_rep1     45.403846   77.384877   35.135218   31.021588   \n",
      "GD3-45171150-pstB_rep1   34.612556   52.328964   26.909027   24.031734   \n",
      "SAMN02691047            119.947184  169.368489  100.093778  134.269485   \n",
      "GD7-45169169_WT_rep2     49.206244   79.714182   33.130345   29.942113   \n",
      "GD1-45169164-WT_rep1.3   44.636774   74.493283   35.043001   31.110746   \n",
      "\n",
      "Name                    PGD134024  PGD134014  PGD134016  PGD134026  PGD134030  \\\n",
      "GD9-45172138_pstB_rep2   6.925745  12.035424  90.545509   6.222418  11.118004   \n",
      "GD1-45169164-WT_rep1    11.463856  18.829945  92.470028   9.047914  15.312057   \n",
      "GD3-45171150-pstB_rep1   7.954373  17.967037  73.605182   6.299350  11.552426   \n",
      "SAMN02691047            55.022293  59.574055   6.846530  38.126388  60.413686   \n",
      "GD7-45169169_WT_rep2    11.873698  16.632950  82.410269  10.185133  16.726115   \n",
      "GD1-45169164-WT_rep1.3  11.656565  18.213383  92.238729   9.103002  16.045623   \n",
      "\n",
      "Name                    PGD134032  ...   PGD133904  PGD133906   PGD133902  \\\n",
      "GD9-45172138_pstB_rep2   5.604420  ...   30.345536  26.749537   33.888794   \n",
      "GD1-45169164-WT_rep1     9.119215  ...   55.880795  41.494166   52.286409   \n",
      "GD3-45171150-pstB_rep1   6.422132  ...   37.654859  27.879080   36.129772   \n",
      "SAMN02691047            21.448103  ...  192.355035  88.035125  108.112422   \n",
      "GD7-45169169_WT_rep2     7.592150  ...   58.159790  43.617218   56.332762   \n",
      "GD1-45169164-WT_rep1.3   8.022509  ...   54.922836  41.484141   51.491061   \n",
      "\n",
      "Name                    PGD133898  PGD133900  PGD133894  PGD133896  \\\n",
      "GD9-45172138_pstB_rep2  28.453672  34.293325   0.443958   5.864888   \n",
      "GD1-45169164-WT_rep1    47.660086  52.001243   0.235259  10.544101   \n",
      "GD3-45171150-pstB_rep1  32.078409  35.637795   0.647826   6.597661   \n",
      "SAMN02691047            56.698411  61.904099   3.080287  20.522048   \n",
      "GD7-45169169_WT_rep2    49.138534  58.693069   0.868714  10.004812   \n",
      "GD1-45169164-WT_rep1.3  47.922871  51.543518   0.631792  10.347079   \n",
      "\n",
      "Name                     PGD133892    PGD133884    PGD133886  \n",
      "GD9-45172138_pstB_rep2   10.049473   152.474443  3071.956345  \n",
      "GD1-45169164-WT_rep1     15.783963   258.025222  5145.544359  \n",
      "GD3-45171150-pstB_rep1   10.388393   171.475151  3728.503976  \n",
      "SAMN02691047            195.199555  3317.075270  4940.851786  \n",
      "GD7-45169169_WT_rep2     16.866363   254.751326  5239.675371  \n",
      "GD1-45169164-WT_rep1.3   16.006569   256.144034  5093.021266  \n",
      "\n",
      "[6 rows x 5687 columns]]\n"
     ]
    }
   ],
   "source": [
    "#loop through indexes and build dataframe of output for each one\n",
    "df_list = []\n",
    "for i in index_names:\n",
    "    glob_list = []\n",
    "    replace = 'quants/'+i+'/'\n",
    "    #print(i)\n",
    "    for z in grab_ref('quants/'+i):\n",
    "        #print(z)\n",
    "        for file in glob.glob(z+'/*.sf'):\n",
    "            glob_list.append(file)\n",
    "            #print(file)\n",
    "    expression_df = pd.DataFrame(\n",
    "    pd.read_csv(file, sep=\"\\t\", index_col=0)[\"TPM\"].\n",
    "        rename(file.replace(replace, '').replace('_quant/quant.sf',''))\n",
    "    for file in glob_list)\n",
    "    df_list.append(expression_df)\n",
    "    expression_df.to_csv(csv+'/aligned_to_'+i, sep='\\t')\n",
    "print(df_list)"
   ]
  },
  {
   "cell_type": "code",
   "execution_count": null,
   "metadata": {},
   "outputs": [],
   "source": []
  }
 ],
 "metadata": {
  "kernelspec": {
   "display_name": "Python 3",
   "language": "python",
   "name": "python3"
  },
  "language_info": {
   "codemirror_mode": {
    "name": "ipython",
    "version": 3
   },
   "file_extension": ".py",
   "mimetype": "text/x-python",
   "name": "python",
   "nbconvert_exporter": "python",
   "pygments_lexer": "ipython3",
   "version": "3.8.3"
  }
 },
 "nbformat": 4,
 "nbformat_minor": 4
}
