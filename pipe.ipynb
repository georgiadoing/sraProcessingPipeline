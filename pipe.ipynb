{
 "cells": [
  {
   "cell_type": "markdown",
   "metadata": {},
   "source": [
    "# To Do\n",
    "1. Account for: forwards vs reverse (maybe?) and library type \n",
    "3. Graph data to quality check \n",
    "4. Download experiments (runs and metadata) using SRA toolkit and organize data folder structure using metadata\n",
    "5. Check indexer settings?\n",
    "\n",
    "We're using os and glob to do bash script stuff."
   ]
  },
  {
   "cell_type": "code",
   "execution_count": 27,
   "metadata": {},
   "outputs": [],
   "source": [
    "import os\n",
    "import glob\n",
    "import pandas as pd\n",
    "import matplotlib.pyplot as plt\n",
    "\n",
    "#ref folder name, ref genomes go here\n",
    "ref_folder = 'references'\n",
    "#os.system('mkdir '+ref_folder)\n",
    "\n",
    "#data folder name, samples and runs go here\n",
    "data = 'data'\n",
    "#os.system('mkdir '+data)"
   ]
  },
  {
   "cell_type": "markdown",
   "metadata": {},
   "source": [
    "# Organize Directories Using Metadata\n",
    "1. Match runs to samples using metadata\n",
    "2. Create folder for each sample name\n",
    "3. Move each run into corresponding sample folder\n",
    "4. Quality check to ensure that: reference genomes are in correct folder and data is in correct folder structure\n",
    "\n",
    "data->samples->runs\n",
    "\n",
    "Will do manually for now, but can think about automating this. "
   ]
  },
  {
   "cell_type": "markdown",
   "metadata": {},
   "source": [
    "# Building Index\n",
    "Use salmon to build index. Download genomes from ensemble and store in refences folder. Will align to references in parallel. This is written to align to as many reference genomes/transcriptomes as are put in the references folder. "
   ]
  },
  {
   "cell_type": "code",
   "execution_count": 4,
   "metadata": {},
   "outputs": [],
   "source": [
    "#grabs stuff and returns a list of them-used throughout\n",
    "def grab_ref(ref_folder1):\n",
    "    files=glob.glob(ref_folder1+'/*')\n",
    "    #print(files)\n",
    "    return(files)\n",
    "\n",
    "#builds Salmon index from given file names, puts indexes into folder, INDEX_references \n",
    "def salmon_index(genome):\n",
    "    os.system('salmon index -t '+str(genome)+' -i INDEX_'+str(genome))\n",
    "    #print('salmon '+ genome)\n",
    "    return \n",
    "\n",
    "#call grab_ref() and salmon_index() to build index for each reference genome\n",
    "for i in grab_ref(ref_folder):\n",
    "    salmon_index(i)"
   ]
  },
  {
   "cell_type": "markdown",
   "metadata": {},
   "source": [
    "# Get Quants for Each Reference Genome on a Per Sample Basis\n",
    "We want all of the runs from each sample to be fed into salmon at one time. This is currently robust to number of runs, but is not robust to library type or paired vs unpaired. If mulitple files, give -a and then a space seperated string of file names. Files must be of same library type and aligned to same transcriptome. Need to check salmon output path and need to see about paired reads."
   ]
  },
  {
   "cell_type": "code",
   "execution_count": 30,
   "metadata": {},
   "outputs": [
    {
     "name": "stdout",
     "output_type": "stream",
     "text": [
      "Index: Pseudomonas_aeruginosa_UCBPP-PA14_109\n",
      "Sample name: GD9-45172138_pstB_rep2\n",
      "Quant output:quants/Pseudomonas_aeruginosa_UCBPP-PA14_109/GD9-45172138_pstB_rep2_quant\n",
      "Multiple runs for GD9-45172138_pstB_rep2\n",
      "Salmon Input:  data/GD9-45172138_pstB_rep2/GD9_S19_L003_R1_001.fastq.gz data/GD9-45172138_pstB_rep2/GD9_S19_L003_R2_001.fastq.gz data/GD9-45172138_pstB_rep2/GD9_S19_L004_R1_001.fastq.gz data/GD9-45172138_pstB_rep2/GD9_S19_L001_R1_001.fastq.gz data/GD9-45172138_pstB_rep2/GD9_S19_L002_R2_001.fastq.gz data/GD9-45172138_pstB_rep2/GD9_S19_L002_R1_001.fastq.gz data/GD9-45172138_pstB_rep2/GD9_S19_L001_R2_001.fastq.gz data/GD9-45172138_pstB_rep2/GD9_S19_L004_R2_001.fastq.gz\n",
      "Sample name: GD3-45171150-pstB_rep1\n",
      "Quant output:quants/Pseudomonas_aeruginosa_UCBPP-PA14_109/GD3-45171150-pstB_rep1_quant\n",
      "Multiple runs for GD3-45171150-pstB_rep1\n",
      "Salmon Input:  data/GD3-45171150-pstB_rep1/GD3_S23_L004_R2_001.fastq.gz data/GD3-45171150-pstB_rep1/GD3_S23_L001_R1_001.fastq.gz data/GD3-45171150-pstB_rep1/GD3_S23_L003_R1_001.fastq.gz data/GD3-45171150-pstB_rep1/GD3_S23_L003_R2_001.fastq.gz data/GD3-45171150-pstB_rep1/GD3_S23_L002_R2_001.fastq.gz data/GD3-45171150-pstB_rep1/GD3_S23_L004_R1_001.fastq.gz data/GD3-45171150-pstB_rep1/GD3_S23_L001_R2_001.fastq.gz data/GD3-45171150-pstB_rep1/GD3_S23_L002_R1_001.fastq.gz\n",
      "Sample name: GD1-45169164-WT_rep1\n",
      "Quant output:quants/Pseudomonas_aeruginosa_UCBPP-PA14_109/GD1-45169164-WT_rep1_quant\n",
      "Multiple runs for GD1-45169164-WT_rep1\n",
      "Salmon Input:  data/GD1-45169164-WT_rep1/GD1_S6_L004_R2_001.fastq.gz data/GD1-45169164-WT_rep1/GD1_S6_L004_R1_001.fastq.gz data/GD1-45169164-WT_rep1/GD1_S6_L001_R2_001.fastq.gz data/GD1-45169164-WT_rep1/GD1_S6_L002_R2_001.fastq.gz data/GD1-45169164-WT_rep1/GD1_S6_L002_R1_001.fastq.gz data/GD1-45169164-WT_rep1/GD1_S6_L003_R2_001.fastq.gz data/GD1-45169164-WT_rep1/GD1_S6_L003_R1_001.fastq.gz data/GD1-45169164-WT_rep1/GD1_S6_L001_R1_001.fastq.gz\n",
      "Sample name: GD7-45169169_WT_rep2\n",
      "Quant output:quants/Pseudomonas_aeruginosa_UCBPP-PA14_109/GD7-45169169_WT_rep2_quant\n",
      "Multiple runs for GD7-45169169_WT_rep2\n",
      "Salmon Input:  data/GD7-45169169_WT_rep2/GD7_S9_L001_R2_001.fastq.gz data/GD7-45169169_WT_rep2/GD7_S9_L001_R1_001.fastq.gz data/GD7-45169169_WT_rep2/GD7_S9_L004_R2_001.fastq.gz data/GD7-45169169_WT_rep2/GD7_S9_L004_R1_001.fastq.gz data/GD7-45169169_WT_rep2/GD7_S9_L002_R1_001.fastq.gz data/GD7-45169169_WT_rep2/GD7_S9_L003_R2_001.fastq.gz data/GD7-45169169_WT_rep2/GD7_S9_L003_R1_001.fastq.gz data/GD7-45169169_WT_rep2/GD7_S9_L002_R2_001.fastq.gz\n",
      "Index: Pseudomonas_aeruginosa_PAO1_107\n",
      "Sample name: GD9-45172138_pstB_rep2\n",
      "Quant output:quants/Pseudomonas_aeruginosa_PAO1_107/GD9-45172138_pstB_rep2_quant\n",
      "Multiple runs for GD9-45172138_pstB_rep2\n",
      "Salmon Input:  data/GD9-45172138_pstB_rep2/GD9_S19_L003_R1_001.fastq.gz data/GD9-45172138_pstB_rep2/GD9_S19_L003_R2_001.fastq.gz data/GD9-45172138_pstB_rep2/GD9_S19_L004_R1_001.fastq.gz data/GD9-45172138_pstB_rep2/GD9_S19_L001_R1_001.fastq.gz data/GD9-45172138_pstB_rep2/GD9_S19_L002_R2_001.fastq.gz data/GD9-45172138_pstB_rep2/GD9_S19_L002_R1_001.fastq.gz data/GD9-45172138_pstB_rep2/GD9_S19_L001_R2_001.fastq.gz data/GD9-45172138_pstB_rep2/GD9_S19_L004_R2_001.fastq.gz\n",
      "Sample name: GD3-45171150-pstB_rep1\n",
      "Quant output:quants/Pseudomonas_aeruginosa_PAO1_107/GD3-45171150-pstB_rep1_quant\n",
      "Multiple runs for GD3-45171150-pstB_rep1\n",
      "Salmon Input:  data/GD3-45171150-pstB_rep1/GD3_S23_L004_R2_001.fastq.gz data/GD3-45171150-pstB_rep1/GD3_S23_L001_R1_001.fastq.gz data/GD3-45171150-pstB_rep1/GD3_S23_L003_R1_001.fastq.gz data/GD3-45171150-pstB_rep1/GD3_S23_L003_R2_001.fastq.gz data/GD3-45171150-pstB_rep1/GD3_S23_L002_R2_001.fastq.gz data/GD3-45171150-pstB_rep1/GD3_S23_L004_R1_001.fastq.gz data/GD3-45171150-pstB_rep1/GD3_S23_L001_R2_001.fastq.gz data/GD3-45171150-pstB_rep1/GD3_S23_L002_R1_001.fastq.gz\n",
      "Sample name: GD1-45169164-WT_rep1\n",
      "Quant output:quants/Pseudomonas_aeruginosa_PAO1_107/GD1-45169164-WT_rep1_quant\n",
      "Multiple runs for GD1-45169164-WT_rep1\n",
      "Salmon Input:  data/GD1-45169164-WT_rep1/GD1_S6_L004_R2_001.fastq.gz data/GD1-45169164-WT_rep1/GD1_S6_L004_R1_001.fastq.gz data/GD1-45169164-WT_rep1/GD1_S6_L001_R2_001.fastq.gz data/GD1-45169164-WT_rep1/GD1_S6_L002_R2_001.fastq.gz data/GD1-45169164-WT_rep1/GD1_S6_L002_R1_001.fastq.gz data/GD1-45169164-WT_rep1/GD1_S6_L003_R2_001.fastq.gz data/GD1-45169164-WT_rep1/GD1_S6_L003_R1_001.fastq.gz data/GD1-45169164-WT_rep1/GD1_S6_L001_R1_001.fastq.gz\n",
      "Sample name: GD7-45169169_WT_rep2\n",
      "Quant output:quants/Pseudomonas_aeruginosa_PAO1_107/GD7-45169169_WT_rep2_quant\n",
      "Multiple runs for GD7-45169169_WT_rep2\n",
      "Salmon Input:  data/GD7-45169169_WT_rep2/GD7_S9_L001_R2_001.fastq.gz data/GD7-45169169_WT_rep2/GD7_S9_L001_R1_001.fastq.gz data/GD7-45169169_WT_rep2/GD7_S9_L004_R2_001.fastq.gz data/GD7-45169169_WT_rep2/GD7_S9_L004_R1_001.fastq.gz data/GD7-45169169_WT_rep2/GD7_S9_L002_R1_001.fastq.gz data/GD7-45169169_WT_rep2/GD7_S9_L003_R2_001.fastq.gz data/GD7-45169169_WT_rep2/GD7_S9_L003_R1_001.fastq.gz data/GD7-45169169_WT_rep2/GD7_S9_L002_R2_001.fastq.gz\n"
     ]
    }
   ],
   "source": [
    "#loops through indexes and samples and runs quant for each sample and each index. \n",
    "index_names =[] #will use this later\n",
    "for y in glob.glob('INDEX_'+ref_folder+'/*'):\n",
    "    #print(y)\n",
    "    index_name = y.replace('INDEX_references/','').replace('.ffn.gz','')\n",
    "    print('Index: '+index_name)\n",
    "    index_names.append(index_name)\n",
    "    for j in grab_ref(data):\n",
    "        #print(j)\n",
    "        sample_name= j.replace('data/','')\n",
    "        print('Sample name: '+sample_name)\n",
    "        runs = grab_ref(j)\n",
    "        #print(runs)\n",
    "        output_name='quants/'+index_name+'/'+sample_name+'_quant'\n",
    "        print('Quant output:'+output_name)\n",
    "        if len(runs)<1:\n",
    "            print('Oops, no runs for '+sample_name)\n",
    "        if len(runs)==1:\n",
    "            print('One run for '+j)\n",
    "            os.system('salmon quant -i '+y+' -l A '+runs[0]+' -p 4 --seqBias --gcBias --writeUnmappedNames -o output_name')\n",
    "        if len(runs)>1:\n",
    "            print('Multiple runs for '+sample_name)\n",
    "            input_name=''\n",
    "            for z in runs:\n",
    "                input_name+= ' '+z\n",
    "            print('Salmon Input: '+input_name)\n",
    "            #os.system('salmon quant -i '+y+' -l A -a'+input_name+' -p 4 --seqBias --gcBias --writeUnmappedNames -o output_name')"
   ]
  },
  {
   "cell_type": "markdown",
   "metadata": {},
   "source": [
    "# Storing Output\n",
    "Not sure yet what the tail end of this will be like."
   ]
  },
  {
   "cell_type": "markdown",
   "metadata": {},
   "source": [
    "# Graphing Data to Quality Check\n",
    "Copied Alex's code.\n",
    "\n",
    "Similar to running the quants, for each reference genome, we're going to grab the quants on a sample by sample basis and construct a data frame for each reference genome. The dataframes will be stored in a list. "
   ]
  },
  {
   "cell_type": "code",
   "execution_count": 31,
   "metadata": {},
   "outputs": [
    {
     "name": "stdout",
     "output_type": "stream",
     "text": [
      "Pseudomonas_aeruginosa_UCBPP-PA14_109\n",
      "Pseudomonas_aeruginosa_PAO1_107\n"
     ]
    }
   ],
   "source": [
    "#loop through indexes and build dataframe of output for each one\n",
    "df_list = []\n",
    "for i in index_names:\n",
    "    print(i)\n",
    "    for z in grab_ref('quants/'+i):\n",
    "        print(z)\n",
    "        expression_df = pd.DataFrame(\n",
    "        pd.read_csv(file, sep=\"\\t\", index_col=0)[\"TPM\"].rename(file.parent.name.split(\"_\")[0])\n",
    "        for file in z.rglob(\"*/quant.sf\"))\n",
    "    expression_df.head()\n",
    "    df_list.append(expression_df)"
   ]
  }
 ],
 "metadata": {
  "kernelspec": {
   "display_name": "Python 3",
   "language": "python",
   "name": "python3"
  },
  "language_info": {
   "codemirror_mode": {
    "name": "ipython",
    "version": 3
   },
   "file_extension": ".py",
   "mimetype": "text/x-python",
   "name": "python",
   "nbconvert_exporter": "python",
   "pygments_lexer": "ipython3",
   "version": "3.8.3"
  }
 },
 "nbformat": 4,
 "nbformat_minor": 4
}
