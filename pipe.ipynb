{
 "cells": [
  {
   "cell_type": "code",
   "execution_count": 5,
   "metadata": {},
   "outputs": [],
   "source": [
    "import os \n",
    "import numpy as np\n",
    "\n",
    "np.random.seed(123)\n",
    "\n",
    "#list of reference genome file names\n",
    "ref_list = ['PA01', 'PA14'] "
   ]
  },
  {
   "cell_type": "markdown",
   "metadata": {},
   "source": [
    "# Building Index and Getting Transcriptome (genome)\n",
    "Use salmon to build index. Download genomes from enselmble. Will do PA01 and PA14 in parallel. "
   ]
  },
  {
   "cell_type": "code",
   "execution_count": 6,
   "metadata": {},
   "outputs": [],
   "source": [
    "#build index from given file names (in this case PA01 and PA14 ref genomes)\n",
    "def salmon_index(genome):\n",
    "    return os.popen('salmon index -t '+str(genome)+' -i '+str(genome)+'_INDEX')\n",
    "\n",
    "for i in ref_list:\n",
    "    salmon_index(i)"
   ]
  },
  {
   "cell_type": "code",
   "execution_count": null,
   "metadata": {},
   "outputs": [],
   "source": [
    "#"
   ]
  }
 ],
 "metadata": {
  "kernelspec": {
   "display_name": "Python 3",
   "language": "python",
   "name": "python3"
  },
  "language_info": {
   "codemirror_mode": {
    "name": "ipython",
    "version": 3
   },
   "file_extension": ".py",
   "mimetype": "text/x-python",
   "name": "python",
   "nbconvert_exporter": "python",
   "pygments_lexer": "ipython3",
   "version": "3.8.3"
  }
 },
 "nbformat": 4,
 "nbformat_minor": 4
}
