{
 "cells": [
  {
   "cell_type": "markdown",
   "metadata": {},
   "source": [
    "# To Do\n",
    "1. Account for: forwards vs reverse (maybe?) and library type \n",
    "3. Graph data to quality check \n",
    "4. Download experiments (runs and metadata) using SRA toolkit and organize data folder structure using metadata\n",
    "5. Check indexer settings?\n",
    "\n",
    "We're using os and glob to do bash script stuff."
   ]
  },
  {
   "cell_type": "code",
   "execution_count": 51,
   "metadata": {},
   "outputs": [],
   "source": [
    "import os\n",
    "import glob\n",
    "import pandas as pd\n",
    "import numpy as np\n",
    "import matplotlib.pyplot as plt\n",
    "from sklearn.decomposition import PCA\n",
    "\n",
    "#ref folder name, ref genomes go here\n",
    "ref_folder = 'references'\n",
    "#os.system('mkdir '+ref_folder)\n",
    "\n",
    "#data folder name, samples and runs go here\n",
    "data = 'data'\n",
    "#os.system('mkdir '+data)\n",
    "\n",
    "#csv output folder name\n",
    "csv = 'Ex'\n",
    "#os.system('mkdir '+csv)"
   ]
  },
  {
   "cell_type": "markdown",
   "metadata": {},
   "source": [
    "# Organize Directories Using Metadata\n",
    "1. Match runs to samples using metadata\n",
    "2. Create folder for each sample name\n",
    "3. Move each run into corresponding sample folder\n",
    "4. Quality check to ensure that: reference genomes are in correct folder and data is in correct folder structure\n",
    "\n",
    "data->samples->runs\n",
    "\n",
    "Will do manually for now, but can think about automating this. "
   ]
  },
  {
   "cell_type": "markdown",
   "metadata": {},
   "source": [
    "# Building Index\n",
    "Use salmon to build index. Download genomes from ensemble and store in refences folder. Will align to references in parallel. This is written to align to as many reference genomes/transcriptomes as are put in the references folder. "
   ]
  },
  {
   "cell_type": "code",
   "execution_count": 4,
   "metadata": {},
   "outputs": [],
   "source": [
    "#grabs stuff and returns a list of them-used throughout\n",
    "def grab_ref(ref_folder1):\n",
    "    files=glob.glob(ref_folder1+'/*')\n",
    "    #print(files)\n",
    "    return(files)\n",
    "\n",
    "#builds Salmon index from given file names, puts indexes into folder, INDEX_references \n",
    "def salmon_index(genome):\n",
    "    #os.system('salmon index -t '+str(genome)+' -i INDEX_'+str(genome))\n",
    "    #print('salmon '+ genome)\n",
    "    return \n",
    "\n",
    "#call grab_ref() and salmon_index() to build index for each reference genome\n",
    "for i in grab_ref(ref_folder):\n",
    "    salmon_index(i)"
   ]
  },
  {
   "cell_type": "markdown",
   "metadata": {},
   "source": [
    "# Get Quants for Each Reference Genome on a Per Sample Basis\n",
    "We want all of the runs from each sample to be fed into salmon at one time. This is currently robust to number of runs, but is not robust to library type or paired vs unpaired. If mulitple files, give -a and then a space seperated string of file names. Files must be of same library type and aligned to same transcriptome. Need to check salmon output path and need to see about paired reads."
   ]
  },
  {
   "cell_type": "code",
   "execution_count": 8,
   "metadata": {},
   "outputs": [
    {
     "name": "stdout",
     "output_type": "stream",
     "text": [
      "INDEX_references/Pseudomonas_aeruginosa_UCBPP-PA14_109.ffn.gz\n",
      "Index: Pseudomonas_aeruginosa_UCBPP-PA14_109\n",
      "Sample name: GD9-45172138_pstB_rep2\n",
      "Quant output:quants/Pseudomonas_aeruginosa_UCBPP-PA14_109/GD9-45172138_pstB_rep2_quant\n",
      "Multiple runs for GD9-45172138_pstB_rep2\n",
      "Salmon Input: -r data/GD9-45172138_pstB_rep2/GD9_S19_L003_R1_001.fastq.gz data/GD9-45172138_pstB_rep2/GD9_S19_L003_R2_001.fastq.gz data/GD9-45172138_pstB_rep2/GD9_S19_L004_R1_001.fastq.gz data/GD9-45172138_pstB_rep2/GD9_S19_L001_R1_001.fastq.gz data/GD9-45172138_pstB_rep2/GD9_S19_L002_R2_001.fastq.gz data/GD9-45172138_pstB_rep2/GD9_S19_L002_R1_001.fastq.gz data/GD9-45172138_pstB_rep2/GD9_S19_L001_R2_001.fastq.gz data/GD9-45172138_pstB_rep2/GD9_S19_L004_R2_001.fastq.gz\n",
      "Sample name: GD3-45171150-pstB_rep1\n",
      "Quant output:quants/Pseudomonas_aeruginosa_UCBPP-PA14_109/GD3-45171150-pstB_rep1_quant\n",
      "Multiple runs for GD3-45171150-pstB_rep1\n",
      "Salmon Input: -r data/GD3-45171150-pstB_rep1/GD3_S23_L004_R2_001.fastq.gz data/GD3-45171150-pstB_rep1/GD3_S23_L001_R1_001.fastq.gz data/GD3-45171150-pstB_rep1/GD3_S23_L003_R1_001.fastq.gz data/GD3-45171150-pstB_rep1/GD3_S23_L003_R2_001.fastq.gz data/GD3-45171150-pstB_rep1/GD3_S23_L002_R2_001.fastq.gz data/GD3-45171150-pstB_rep1/GD3_S23_L004_R1_001.fastq.gz data/GD3-45171150-pstB_rep1/GD3_S23_L001_R2_001.fastq.gz data/GD3-45171150-pstB_rep1/GD3_S23_L002_R1_001.fastq.gz\n",
      "Sample name: GD1-45169164-WT_rep1\n",
      "Quant output:quants/Pseudomonas_aeruginosa_UCBPP-PA14_109/GD1-45169164-WT_rep1_quant\n",
      "Multiple runs for GD1-45169164-WT_rep1\n",
      "Salmon Input: -r data/GD1-45169164-WT_rep1/GD1_S6_L004_R2_001.fastq.gz data/GD1-45169164-WT_rep1/GD1_S6_L004_R1_001.fastq.gz data/GD1-45169164-WT_rep1/GD1_S6_L001_R2_001.fastq.gz data/GD1-45169164-WT_rep1/GD1_S6_L002_R2_001.fastq.gz data/GD1-45169164-WT_rep1/GD1_S6_L002_R1_001.fastq.gz data/GD1-45169164-WT_rep1/GD1_S6_L003_R2_001.fastq.gz data/GD1-45169164-WT_rep1/GD1_S6_L003_R1_001.fastq.gz data/GD1-45169164-WT_rep1/GD1_S6_L001_R1_001.fastq.gz\n",
      "Sample name: GD7-45169169_WT_rep2\n",
      "Quant output:quants/Pseudomonas_aeruginosa_UCBPP-PA14_109/GD7-45169169_WT_rep2_quant\n",
      "Multiple runs for GD7-45169169_WT_rep2\n",
      "Salmon Input: -r data/GD7-45169169_WT_rep2/GD7_S9_L001_R2_001.fastq.gz data/GD7-45169169_WT_rep2/GD7_S9_L001_R1_001.fastq.gz data/GD7-45169169_WT_rep2/GD7_S9_L004_R2_001.fastq.gz data/GD7-45169169_WT_rep2/GD7_S9_L004_R1_001.fastq.gz data/GD7-45169169_WT_rep2/GD7_S9_L002_R1_001.fastq.gz data/GD7-45169169_WT_rep2/GD7_S9_L003_R2_001.fastq.gz data/GD7-45169169_WT_rep2/GD7_S9_L003_R1_001.fastq.gz data/GD7-45169169_WT_rep2/GD7_S9_L002_R2_001.fastq.gz\n",
      "INDEX_references/Pseudomonas_aeruginosa_PAO1_107.ffn.gz\n",
      "Index: Pseudomonas_aeruginosa_PAO1_107\n",
      "Sample name: GD9-45172138_pstB_rep2\n",
      "Quant output:quants/Pseudomonas_aeruginosa_PAO1_107/GD9-45172138_pstB_rep2_quant\n",
      "Multiple runs for GD9-45172138_pstB_rep2\n",
      "Salmon Input: -r data/GD9-45172138_pstB_rep2/GD9_S19_L003_R1_001.fastq.gz data/GD9-45172138_pstB_rep2/GD9_S19_L003_R2_001.fastq.gz data/GD9-45172138_pstB_rep2/GD9_S19_L004_R1_001.fastq.gz data/GD9-45172138_pstB_rep2/GD9_S19_L001_R1_001.fastq.gz data/GD9-45172138_pstB_rep2/GD9_S19_L002_R2_001.fastq.gz data/GD9-45172138_pstB_rep2/GD9_S19_L002_R1_001.fastq.gz data/GD9-45172138_pstB_rep2/GD9_S19_L001_R2_001.fastq.gz data/GD9-45172138_pstB_rep2/GD9_S19_L004_R2_001.fastq.gz\n",
      "Sample name: GD3-45171150-pstB_rep1\n",
      "Quant output:quants/Pseudomonas_aeruginosa_PAO1_107/GD3-45171150-pstB_rep1_quant\n",
      "Multiple runs for GD3-45171150-pstB_rep1\n",
      "Salmon Input: -r data/GD3-45171150-pstB_rep1/GD3_S23_L004_R2_001.fastq.gz data/GD3-45171150-pstB_rep1/GD3_S23_L001_R1_001.fastq.gz data/GD3-45171150-pstB_rep1/GD3_S23_L003_R1_001.fastq.gz data/GD3-45171150-pstB_rep1/GD3_S23_L003_R2_001.fastq.gz data/GD3-45171150-pstB_rep1/GD3_S23_L002_R2_001.fastq.gz data/GD3-45171150-pstB_rep1/GD3_S23_L004_R1_001.fastq.gz data/GD3-45171150-pstB_rep1/GD3_S23_L001_R2_001.fastq.gz data/GD3-45171150-pstB_rep1/GD3_S23_L002_R1_001.fastq.gz\n",
      "Sample name: GD1-45169164-WT_rep1\n",
      "Quant output:quants/Pseudomonas_aeruginosa_PAO1_107/GD1-45169164-WT_rep1_quant\n",
      "Multiple runs for GD1-45169164-WT_rep1\n",
      "Salmon Input: -r data/GD1-45169164-WT_rep1/GD1_S6_L004_R2_001.fastq.gz data/GD1-45169164-WT_rep1/GD1_S6_L004_R1_001.fastq.gz data/GD1-45169164-WT_rep1/GD1_S6_L001_R2_001.fastq.gz data/GD1-45169164-WT_rep1/GD1_S6_L002_R2_001.fastq.gz data/GD1-45169164-WT_rep1/GD1_S6_L002_R1_001.fastq.gz data/GD1-45169164-WT_rep1/GD1_S6_L003_R2_001.fastq.gz data/GD1-45169164-WT_rep1/GD1_S6_L003_R1_001.fastq.gz data/GD1-45169164-WT_rep1/GD1_S6_L001_R1_001.fastq.gz\n",
      "Sample name: GD7-45169169_WT_rep2\n",
      "Quant output:quants/Pseudomonas_aeruginosa_PAO1_107/GD7-45169169_WT_rep2_quant\n",
      "Multiple runs for GD7-45169169_WT_rep2\n",
      "Salmon Input: -r data/GD7-45169169_WT_rep2/GD7_S9_L001_R2_001.fastq.gz data/GD7-45169169_WT_rep2/GD7_S9_L001_R1_001.fastq.gz data/GD7-45169169_WT_rep2/GD7_S9_L004_R2_001.fastq.gz data/GD7-45169169_WT_rep2/GD7_S9_L004_R1_001.fastq.gz data/GD7-45169169_WT_rep2/GD7_S9_L002_R1_001.fastq.gz data/GD7-45169169_WT_rep2/GD7_S9_L003_R2_001.fastq.gz data/GD7-45169169_WT_rep2/GD7_S9_L003_R1_001.fastq.gz data/GD7-45169169_WT_rep2/GD7_S9_L002_R2_001.fastq.gz\n"
     ]
    }
   ],
   "source": [
    "#loops through indexes and samples and runs quant for each sample and each index. \n",
    "index_names =[] #will use this later\n",
    "for y in glob.glob('INDEX_'+ref_folder+'/*'):\n",
    "    print(y)\n",
    "    index_name = y.replace('INDEX_references/','').replace('.ffn.gz','')\n",
    "    print('Index: '+index_name)\n",
    "    index_names.append(index_name)\n",
    "    for j in grab_ref(data):\n",
    "        #print(j)\n",
    "        sample_name= j.replace('data/','')\n",
    "        print('Sample name: '+sample_name)\n",
    "        runs = grab_ref(j)\n",
    "        #print(runs)\n",
    "        output_name='quants/'+index_name+'/'+sample_name+'_quant'\n",
    "        print('Quant output:'+output_name)\n",
    "        if len(runs)<1:\n",
    "            print('Oops, no runs for '+sample_name)\n",
    "        if len(runs)==1:\n",
    "            print('One run for '+j)\n",
    "            #os.system('salmon quant -i '+y+' -l A '+runs[0]+' -p 8 --validateMappings -o '+output_name)\n",
    "        if len(runs)>1:\n",
    "            print('Multiple runs for '+sample_name)\n",
    "            input_name='-r'\n",
    "            for z in np.arange(0, len(runs)):\n",
    "                input_name+= ' '+runs[z]\n",
    "                #if z>0 and len(runs)/z == len(runs)/2:\n",
    "                 #   input_name+= ' -2'\n",
    "            print('Salmon Input: '+input_name)\n",
    "            #os.system('salmon quant -i '+y+' -l A '+input_name+' -p 8 --validateMappings -o '+output_name)"
   ]
  },
  {
   "cell_type": "markdown",
   "metadata": {},
   "source": [
    "# Storing Output\n",
    "Copied Alex's code; imitation is the sincerest form of flattery. \n",
    "\n",
    "Similar to running the quants, for each reference genome, we're going to grab the quants on a sample by sample basis and construct a data frame for each reference genome. The dataframes will be stored in a list. \n",
    "\n",
    "Not sure if row names are robust. I think they are, but I have not thought hard about it. \n",
    "\n",
    "This will eatup ram (?) when implemented. Instead of storing the data from each sample in a dataframe, it should be appended to a csv file? Shouldn't be too hard to do, but will effect everything downstream. "
   ]
  },
  {
   "cell_type": "code",
   "execution_count": 53,
   "metadata": {},
   "outputs": [
    {
     "name": "stdout",
     "output_type": "stream",
     "text": [
      "[Name                    PGD1650835  PGD1650837  PGD1650839  PGD1650841  \\\n",
      "GD9-45172138_pstB_rep2   27.751493   48.347681   18.797527   21.541034   \n",
      "GD1-45169164-WT_rep1     53.053058   82.089530   36.256642   35.038798   \n",
      "GD3-45171150-pstB_rep1   39.166101   54.545319   27.358874   26.625409   \n",
      "GD7-45169169_WT_rep2     56.323800   85.207025   34.251943   33.281044   \n",
      "\n",
      "Name                    PGD1650843  PGD1650845  PGD1650847  PGD1650849  \\\n",
      "GD9-45172138_pstB_rep2    6.955359    9.788763   93.964589    6.683162   \n",
      "GD1-45169164-WT_rep1     12.043479   23.388455   99.704664   11.853298   \n",
      "GD3-45171150-pstB_rep1    8.265260   21.298861   78.087483    8.325606   \n",
      "GD7-45169169_WT_rep2     13.389225   21.290272   88.413720   12.591296   \n",
      "\n",
      "Name                    PGD1650851  PGD1650853  ...  PGD1662756  PGD1662758  \\\n",
      "GD9-45172138_pstB_rep2    8.796511    5.960890  ...   21.598428   47.414397   \n",
      "GD1-45169164-WT_rep1     16.897870    9.909400  ...   53.377099   73.836104   \n",
      "GD3-45171150-pstB_rep1   12.642490    7.065341  ...   33.150182   48.599898   \n",
      "GD7-45169169_WT_rep2     18.892459    8.651536  ...   59.040106   76.580362   \n",
      "\n",
      "Name                    PGD1662760  PGD1662762  PGD1662764  PGD1662766  \\\n",
      "GD9-45172138_pstB_rep2   21.796621   28.168371   31.490618   27.513545   \n",
      "GD1-45169164-WT_rep1     45.953732   54.102352   53.356168   53.269051   \n",
      "GD3-45171150-pstB_rep1   30.472601   36.801229   36.513634   36.220140   \n",
      "GD7-45169169_WT_rep2     47.678316   57.838052   54.522139   59.855127   \n",
      "\n",
      "Name                    PGD1662768  PGD1662770  PGD1662772  PGD1662774  \n",
      "GD9-45172138_pstB_rep2    9.888741    5.789616    9.251345  184.121563  \n",
      "GD1-45169164-WT_rep1     18.651925   11.890029   17.616076  265.824073  \n",
      "GD3-45171150-pstB_rep1   12.440604    7.394880   11.485448  173.265810  \n",
      "GD7-45169169_WT_rep2     21.944877   11.761342   19.058981  260.854203  \n",
      "\n",
      "[4 rows x 5959 columns], Name                    PGD134012  PGD134018  PGD134020  PGD134022  PGD134024  \\\n",
      "GD9-45172138_pstB_rep2  20.699260  36.760216  13.822866  16.361343   5.279667   \n",
      "GD1-45169164-WT_rep1    22.861136  36.095847  15.882400  15.385552   5.214769   \n",
      "GD3-45171150-pstB_rep1  19.187656  27.055885  13.529596  13.209735   4.015004   \n",
      "GD7-45169169_WT_rep2    24.383168  37.469795  14.964511  14.627559   5.837172   \n",
      "\n",
      "Name                    PGD134014  PGD134016  PGD134026  PGD134030  PGD134032  \\\n",
      "GD9-45172138_pstB_rep2   7.400182  70.238594   5.058499   6.663268   4.386268   \n",
      "GD1-45169164-WT_rep1    10.309420  41.423411   5.170824   7.392028   4.280578   \n",
      "GD3-45171150-pstB_rep1  10.560830  36.682672   4.125794   6.210925   3.342055   \n",
      "GD7-45169169_WT_rep2     9.374259  36.827459   5.512026   8.172767   3.676597   \n",
      "\n",
      "Name                    ...  PGD133904  PGD133906  PGD133902  PGD133898  \\\n",
      "GD9-45172138_pstB_rep2  ...  36.010687  15.974031  21.452212  23.341942   \n",
      "GD1-45169164-WT_rep1    ...  32.531601  19.212542  23.824052  22.590654   \n",
      "GD3-45171150-pstB_rep1  ...  24.157175  14.398255  18.307102  17.283626   \n",
      "GD7-45169169_WT_rep2    ...  33.727808  19.968347  25.475226  23.316139   \n",
      "\n",
      "Name                    PGD133900  PGD133894  PGD133896  PGD133892  \\\n",
      "GD9-45172138_pstB_rep2  20.931474   6.297083   4.338860   7.000534   \n",
      "GD1-45169164-WT_rep1    23.433610   6.076107   5.112501   7.616336   \n",
      "GD3-45171150-pstB_rep1  17.974317   4.601712   3.594141   5.615657   \n",
      "GD7-45169169_WT_rep2    26.352462   8.075720   5.080441   8.264588   \n",
      "\n",
      "Name                     PGD133884    PGD133886  \n",
      "GD9-45172138_pstB_rep2  140.366556  1005.801749  \n",
      "GD1-45169164-WT_rep1    117.311192  2290.672134  \n",
      "GD3-45171150-pstB_rep1   86.317866  1845.508139  \n",
      "GD7-45169169_WT_rep2    115.193289  2310.466304  \n",
      "\n",
      "[4 rows x 5687 columns]]\n"
     ]
    }
   ],
   "source": [
    "#loop through indexes and build dataframe of output for each one\n",
    "df_list = []\n",
    "for i in index_names:\n",
    "    glob_list = []\n",
    "    replace = 'quants/'+i+'/'\n",
    "    #print(i)\n",
    "    for z in grab_ref('quants/'+i):\n",
    "        #print(z)\n",
    "        for file in glob.glob(z+'/*.sf'):\n",
    "            glob_list.append(file)\n",
    "            #print(file)\n",
    "    expression_df = pd.DataFrame(\n",
    "    pd.read_csv(file, sep=\"\\t\", index_col=0)[\"TPM\"].\n",
    "        rename(file.replace(replace, '').replace('_quant/quant.sf',''))\n",
    "    for file in glob_list)\n",
    "    df_list.append(expression_df)\n",
    "    expression_df.to_csv(csv+'/aligned_to_'+i, sep='\\t')\n",
    "print(df_list)"
   ]
  },
  {
   "cell_type": "markdown",
   "metadata": {},
   "source": [
    "# Graphing Data\n",
    "\n",
    "\n",
    "Not sure about this yet."
   ]
  }
 ],
 "metadata": {
  "kernelspec": {
   "display_name": "Python 3",
   "language": "python",
   "name": "python3"
  },
  "language_info": {
   "codemirror_mode": {
    "name": "ipython",
    "version": 3
   },
   "file_extension": ".py",
   "mimetype": "text/x-python",
   "name": "python",
   "nbconvert_exporter": "python",
   "pygments_lexer": "ipython3",
   "version": "3.8.3"
  }
 },
 "nbformat": 4,
 "nbformat_minor": 4
}
